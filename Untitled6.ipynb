{
  "nbformat": 4,
  "nbformat_minor": 0,
  "metadata": {
    "colab": {
      "name": "Untitled6.ipynb",
      "provenance": [],
      "collapsed_sections": [],
      "authorship_tag": "ABX9TyP3RKgBtfE6Un3S4dDMdCio",
      "include_colab_link": true
    },
    "kernelspec": {
      "name": "python3",
      "display_name": "Python 3"
    },
    "language_info": {
      "name": "python"
    }
  },
  "cells": [
    {
      "cell_type": "markdown",
      "metadata": {
        "id": "view-in-github",
        "colab_type": "text"
      },
      "source": [
        "<a href=\"https://colab.research.google.com/github/njeriwagura/Python-class-2021/blob/main/Untitled6.ipynb\" target=\"_parent\"><img src=\"https://colab.research.google.com/assets/colab-badge.svg\" alt=\"Open In Colab\"/></a>"
      ]
    },
    {
      "cell_type": "code",
      "metadata": {
        "colab": {
          "base_uri": "https://localhost:8080/"
        },
        "id": "uhglQS37va7s",
        "outputId": "7d977368-f010-4939-fd57-b1032afae671"
      },
      "source": [
        "#Enter first and last name\n",
        "names = input(\"Enter first and last name\")\n",
        "print(names)\n",
        "print()\n",
        "#Enter your goals for this class\n",
        "print(\"What are your goals for this class - long term goals?\")\n",
        "goals = input('What would you like to be....when all is said and done with the class?')\n",
        "print(goals)"
      ],
      "execution_count": 4,
      "outputs": [
        {
          "output_type": "stream",
          "text": [
            "Enter first and last name Njeri Wagura\n",
            " Njeri Wagura\n",
            "\n",
            "What are your goals for this class - long term goals?\n",
            "What would you like to be....when all is said and done with the class? a great pythonist\n",
            " a great pythonist\n"
          ],
          "name": "stdout"
        }
      ]
    }
  ]
}